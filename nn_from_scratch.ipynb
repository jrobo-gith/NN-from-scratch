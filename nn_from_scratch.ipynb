{
 "cells": [
  {
   "cell_type": "markdown",
   "id": "eeec540546601f13",
   "metadata": {},
   "source": [
    "# Building a Neural Network from scratch"
   ]
  },
  {
   "cell_type": "code",
   "execution_count": 1,
   "id": "initial_id",
   "metadata": {
    "ExecuteTime": {
     "end_time": "2025-04-23T16:04:05.246468Z",
     "start_time": "2025-04-23T16:04:04.621499Z"
    },
    "collapsed": true
   },
   "outputs": [],
   "source": [
    "import numpy as np\n",
    "import matplotlib.pyplot as plt\n",
    "import pandas as pd"
   ]
  },
  {
   "cell_type": "markdown",
   "id": "b813c674470212cc",
   "metadata": {},
   "source": [
    "## Import Data"
   ]
  },
  {
   "cell_type": "code",
   "execution_count": 2,
   "id": "87cb1d8f023d755f",
   "metadata": {
    "ExecuteTime": {
     "end_time": "2025-04-23T16:15:58.625354Z",
     "start_time": "2025-04-23T16:15:56.509178Z"
    }
   },
   "outputs": [],
   "source": [
    "mnist_test = pd.read_csv('MNIST_CSV/mnist_test.csv')\n",
    "mnist_train = pd.read_csv('MNIST_CSV/mnist_train.csv')\n",
    "mnist_test = np.array(mnist_test).T\n",
    "mnist_train = np.array(mnist_train).T"
   ]
  },
  {
   "cell_type": "markdown",
   "id": "288b0e0a3fe38859",
   "metadata": {},
   "source": [
    "## Test plot for a number"
   ]
  },
  {
   "cell_type": "code",
   "execution_count": 5,
   "id": "12e2bcc25711d388",
   "metadata": {
    "ExecuteTime": {
     "end_time": "2025-04-23T19:23:57.898372Z",
     "start_time": "2025-04-23T19:23:57.149202Z"
    }
   },
   "outputs": [
    {
     "data": {
      "text/plain": [
       "(-0.5, 27.5, 27.5, -0.5)"
      ]
     },
     "execution_count": 5,
     "metadata": {},
     "output_type": "execute_result"
    },
    {
     "data": {
      "image/png": "[encoded data removed]",
      "text/plain": [
       "<Figure size 300x300 with 1 Axes>"
      ]
     },
     "metadata": {},
     "output_type": "display_data"
    }
   ],
   "source": [
    "fig, ax = plt.subplots(figsize=(3, 3))\n",
    "randint = np.random.randint(0, mnist_train.shape[1])\n",
    "ax.imshow(np.reshape(mnist_train[1:, randint], (28, 28)), cmap='Greys')\n",
    "ax.set_title(f\"{mnist_train[0, randint]}\", fontsize=20)\n",
    "ax.axis('off') "
   ]
  },
  {
   "cell_type": "markdown",
   "id": "dd05c83a3c6c3d90",
   "metadata": {},
   "source": [
    "### Change single label into array of 0s and 1s, (one hot)"
   ]
  },
  {
   "cell_type": "code",
   "execution_count": 6,
   "id": "67de3c595c323a1b",
   "metadata": {
    "ExecuteTime": {
     "end_time": "2025-04-23T16:16:24.023741Z",
     "start_time": "2025-04-23T16:16:24.019774Z"
    }
   },
   "outputs": [],
   "source": [
    "def one_hot(label):\n",
    "    Y = np.zeros(10)\n",
    "    Y[label] = 1\n",
    "    return Y"
   ]
  },
  {
   "cell_type": "markdown",
   "id": "4e3bc6194cd57867",
   "metadata": {},
   "source": [
    "## Coding one Neuron"
   ]
  },
  {
   "cell_type": "code",
   "execution_count": 7,
   "id": "3e7afc42485eb842",
   "metadata": {
    "ExecuteTime": {
     "end_time": "2025-04-23T16:16:24.871544Z",
     "start_time": "2025-04-23T16:16:24.867412Z"
    }
   },
   "outputs": [],
   "source": [
    "class Neuron:\n",
    "    def __init__(self, weight, biases, input):\n",
    "        self.weight = weight\n",
    "        self.biases = biases\n",
    "        self.input = input\n",
    "        self.output = 0 \n",
    "    \n",
    "    def forward(self) -> float:\n",
    "        self.output = np.dot(self.input, self.weight) + self.biases\n",
    "        return self.output"
   ]
  },
  {
   "cell_type": "code",
   "execution_count": 8,
   "id": "620dc44a57d922d0",
   "metadata": {
    "ExecuteTime": {
     "end_time": "2025-04-23T16:16:28.046766Z",
     "start_time": "2025-04-23T16:16:28.041047Z"
    }
   },
   "outputs": [
    {
     "name": "stdout",
     "output_type": "stream",
     "text": [
      "[127.90472536 124.49523772 128.71578304 126.68002781 129.14456505]\n"
     ]
    }
   ],
   "source": [
    "w = np.random.uniform(0, 5, 5)\n",
    "b = np.random.uniform(0, 5, 5)\n",
    "X_data = np.random.uniform(0, 100, 5)\n",
    "\n",
    "neuron = Neuron(weight=w, biases=b, input=X_data)\n",
    "output = neuron.forward()\n",
    "\n",
    "print(output)"
   ]
  },
  {
   "cell_type": "markdown",
   "id": "6444d760ce98f802",
   "metadata": {},
   "source": [
    "## Whole Network of hidden layers and neurons"
   ]
  },
  {
   "cell_type": "code",
   "execution_count": 27,
   "id": "424527fcdfd6539b",
   "metadata": {
    "ExecuteTime": {
     "end_time": "2025-04-23T19:49:13.541906Z",
     "start_time": "2025-04-23T19:49:13.518496Z"
    }
   },
   "outputs": [],
   "source": [
    "def Linear(x, weights, bias):\n",
    "    \"\"\"Linear hidden layer\"\"\"\n",
    "    return weights.dot(x) + bias\n",
    "\n",
    "def ReLU(inputs) -> np.ndarray:\n",
    "    \"\"\"Activation function\"\"\"\n",
    "    return np.maximum(0, inputs)\n",
    "\n",
    "def softMax(inputs: np.ndarray) -> np.ndarray:\n",
    "    exps = np.exp(inputs - inputs.max())\n",
    "    return exps / np.sum(exps)\n",
    "\n",
    "def initialise_weights(num_HL, HL_structure, num_inputs, num_outputs) -> (np.ndarray, np.ndarray):\n",
    "    params = {\"W0\": np.random.normal(0, np.sqrt(2/num_inputs), size=(HL_structure[0], num_inputs))}\n",
    "    for i in range(num_HL-1):\n",
    "        params[f\"W{i+1}\"] = np.random.normal(0, np.sqrt(2/HL_structure[i]), size=(HL_structure[i+1], HL_structure[i]))\n",
    "    params[f\"W{num_HL}\"] = np.random.normal(0, 2/HL_structure[-1], size=(num_outputs, HL_structure[-1]))\n",
    "    biases = np.random.normal(size=num_HL+2)\n",
    "    return params, biases\n",
    "\n",
    "class NeuralNetwork:\n",
    "    def __init__(self, num_inputs, hidden_layer_structure, num_outputs, lr=0.1):\n",
    "        self.num_inputs = num_inputs\n",
    "        self.num_hidden_layers = len(hidden_layer_structure)\n",
    "        self.hidden_layer_structure = hidden_layer_structure\n",
    "        self.num_outputs = num_outputs\n",
    "        self.lr = lr\n",
    "        \n",
    "        # Randomly initialise weights and biases\n",
    "        self.weights, self.biases = initialise_weights(num_HL=self.num_hidden_layers,\n",
    "                                              HL_structure=self.hidden_layer_structure,\n",
    "                                              num_inputs=self.num_inputs,\n",
    "                                              num_outputs=self.num_outputs)\n",
    "        \n",
    "        # Information I may want\n",
    "        self.num_nodes = self.num_hidden_layers + sum(hidden_layer_structure)\n",
    "\n",
    "    def forward(self, As):\n",
    "        Zs_dict = {}\n",
    "        As_dict = {}\n",
    "        length_weights = len(self.weights)\n",
    "        for i in range(length_weights-1):\n",
    "            Zs = Linear(As, self.weights[f\"W{i}\"], self.biases[i])\n",
    "            As = ReLU(Zs)\n",
    "\n",
    "            Zs_dict[f\"Z{i}\"] = Zs\n",
    "            As_dict[f\"A{i}\"] = As\n",
    "\n",
    "        Zs = Linear(As, self.weights[f\"W{length_weights-1}\"], self.biases[length_weights-1])\n",
    "        Zs_dict[f\"Z{length_weights-1}\"] = Zs\n",
    "        As_dict[f\"A{length_weights-1}\"] = Zs\n",
    "\n",
    "        return Zs_dict, As_dict\n",
    "    \n",
    "    def update_weights(self, grad_w, grad_b):\n",
    "        for i in range(len(self.weights)):\n",
    "            self.weights[f\"W{i}\"] -= self.lr * grad_w[f\"GW{i}\"]\n",
    "            self.biases[i] -= self.lr * grad_b[f\"GB{i}\"]"
   ]
  },
  {
   "cell_type": "code",
   "execution_count": 28,
   "id": "a726fd861417e98a",
   "metadata": {
    "ExecuteTime": {
     "end_time": "2025-04-23T20:10:44.546021Z",
     "start_time": "2025-04-23T20:10:44.422264Z"
    }
   },
   "outputs": [],
   "source": [
    "def cross_entropy(outputs, targets):\n",
    "    \"\"\"Classification Loss Function\"\"\"\n",
    "    normalised_outputs = softMax(outputs)\n",
    "    return - np.sum(targets * np.log(normalised_outputs))\n",
    "\n",
    "def deriv_ReLU(x):\n",
    "    ret = np.zeros_like(x)\n",
    "    ret[x >= 0] = 1\n",
    "    return ret"
   ]
  },
  {
   "cell_type": "code",
   "execution_count": 90,
   "id": "4f2040a7",
   "metadata": {},
   "outputs": [],
   "source": [
    "class Criterion:\n",
    "    def __init__(self, NN):\n",
    "        self.NN = NN\n",
    "        self.params = self.NN.weights\n",
    "        self.biases = self.NN.biases\n",
    "        self.num_layers = len(self.params.keys())\n",
    "\n",
    "    def backward(self, Zs, As, true_label, OG_array):\n",
    "        m = 0.2\n",
    "        grad_weights = {}\n",
    "        grad_biases = {}\n",
    "\n",
    "        # Initial layer\n",
    "        true_one_hot = one_hot(true_label)\n",
    "        dZ = (softMax(list(As.values())[-1]) - true_one_hot)[:, None]\n",
    "        dW = (1/m)*(dZ.dot(list(As.values())[-2][:, None].T))\n",
    "        dB = (1/m)*(np.sum(dZ))\n",
    "\n",
    "        grad_weights[f\"GW{self.num_layers-1}\"] = dW\n",
    "        grad_biases[f\"GB{self.num_layers-1}\"] = dB\n",
    "\n",
    "        # Hidden layers\n",
    "        i = len(self.params.values())-2\n",
    "        for weights in list(self.params.values())[::-1][:-1]:\n",
    "            if i == 0:\n",
    "                A = OG_array\n",
    "            else:\n",
    "                A = As[f\"A{i-1}\"]\n",
    "            Z = Zs[f\"Z{i}\"]\n",
    "            dZ = weights.T.dot(dZ) \n",
    "            dZ = dZ * deriv_ReLU(Z[:, None])\n",
    "\n",
    "            dW = (1/m) * (dZ.dot(A[:, None].T))\n",
    "            dB = (1/m) * (np.sum(dZ))\n",
    "\n",
    "            grad_weights[f\"GW{i}\"] = dW\n",
    "            grad_biases[f\"GB{i}\"] = dB\n",
    "            i -= 1\n",
    "\n",
    "        return grad_weights, grad_biases"
   ]
  },
  {
   "cell_type": "code",
   "execution_count": 83,
   "id": "7312fb9d",
   "metadata": {},
   "outputs": [],
   "source": [
    "randint = np.random.randint(0, mnist_train.shape[1])\n",
    "rand_img = mnist_train[1:, randint]\n",
    "true_label = mnist_train[0, randint]\n",
    "\n",
    "NN = NeuralNetwork(num_inputs=rand_img.shape[0], hidden_layer_structure=[50, 25, 15], num_outputs=10)\n",
    "c = Criterion(NN=NN)\n",
    "Zs, As = NN.forward(rand_img)\n",
    "grad_w, grad_b = c.backward(Zs=Zs, As=As, true_label=true_label, OG_array=rand_img)\n",
    "NN.update_weights(grad_w=grad_w, grad_b=grad_b)"
   ]
  },
  {
   "cell_type": "code",
   "execution_count": 124,
   "id": "41fe2f04cbd9fcd6",
   "metadata": {
    "ExecuteTime": {
     "end_time": "2025-04-23T20:10:54.047776Z",
     "start_time": "2025-04-23T20:10:47.347395Z"
    }
   },
   "outputs": [
    {
     "name": "stdout",
     "output_type": "stream",
     "text": [
      "Training... | Error: 0.0008073570824725577 | Epoch 50/50 | Image 59000 / 599999\r"
     ]
    }
   ],
   "source": [
    "HLS = [15, 10]\n",
    "NN = NeuralNetwork(num_inputs=784, hidden_layer_structure=HLS, num_outputs=10, lr=0.0001)\n",
    "loss = Criterion(NN=NN)\n",
    "\n",
    "error_list = []\n",
    "\n",
    "num_epochs = 50\n",
    "for epoch in range(num_epochs):\n",
    "    for i, img in enumerate(mnist_train.T):\n",
    "        label = img[0]\n",
    "        data = img[1:]/255\n",
    "        Zs, As = NN.forward(data)\n",
    "        grad_w, grad_b = loss.backward(Zs=Zs, As=As, true_label=label, OG_array=data)\n",
    "        NN.update_weights(grad_w=grad_w, grad_b=grad_b)\n",
    "        if i % 1000 == 0:\n",
    "            error = cross_entropy(outputs=list(As.values())[-1], targets=one_hot(label=label))\n",
    "            print(f\"Training... | Error: {error} | Epoch {epoch + 1}/{num_epochs} | Image {i} / {mnist_train.shape[1]}\", end=\"\\r\")\n",
    "            error_list.append(error)"
   ]
  },
  {
   "cell_type": "code",
   "execution_count": 125,
   "id": "03c2976c",
   "metadata": {},
   "outputs": [
    {
     "data": {
      "text/plain": [
       "[<matplotlib.lines.Line2D at 0x150a6b150>]"
      ]
     },
     "execution_count": 125,
     "metadata": {},
     "output_type": "execute_result"
    },
    {
     "data": {
      "image/png": "[encoded data removed]",
      "text/plain": [
       "<Figure size 1000x1000 with 1 Axes>"
      ]
     },
     "metadata": {},
     "output_type": "display_data"
    }
   ],
   "source": [
    "fig, ax = plt.subplots(figsize=(10, 10))\n",
    "\n",
    "plt.plot(error_list)"
   ]
  },
  {
   "cell_type": "code",
   "execution_count": 126,
   "id": "80152acf4e40a7a",
   "metadata": {
    "ExecuteTime": {
     "end_time": "2025-04-23T19:56:31.609051Z",
     "start_time": "2025-04-23T19:56:22.470808Z"
    }
   },
   "outputs": [
    {
     "name": "stdout",
     "output_type": "stream",
     "text": [
      "Accuracy: 95.26%\n"
     ]
    }
   ],
   "source": [
    "guesses = np.zeros((2, mnist_test.shape[1]))\n",
    "correct = 0\n",
    "\n",
    "for i, img in enumerate(mnist_test.T):\n",
    "    label = img[0]\n",
    "    data = img[1:]/255\n",
    "    Zs, As = NN.forward(data)\n",
    "    guess = softMax(list(As.values())[-1])\n",
    "\n",
    "    guesses[0, i] = label\n",
    "    guesses[1, i] = list(guess).index(max(guess))\n",
    "\n",
    "    if label == list(guess).index(max(guess)):\n",
    "        correct += 1\n",
    "\n",
    "print(f\"Accuracy: {(correct / mnist_test.shape[1])*100:.2f}%\")"
   ]
  },
  {
   "cell_type": "code",
   "execution_count": 128,
   "id": "ecf8b3285e5b7ff4",
   "metadata": {},
   "outputs": [
    {
     "data": {
      "text/plain": [
       "(-0.5, 27.5, 27.5, -0.5)"
      ]
     },
     "execution_count": 128,
     "metadata": {},
     "output_type": "execute_result"
    },
    {
     "data": {
      "image/png": "[encoded data removed]",
      "text/plain": [
       "<Figure size 300x300 with 1 Axes>"
      ]
     },
     "metadata": {},
     "output_type": "display_data"
    }
   ],
   "source": [
    "fig, ax = plt.subplots(figsize=(3, 3))\n",
    "randint = np.random.randint(0, mnist_test.shape[1])\n",
    "ax.imshow(np.reshape(mnist_test[1:, randint], (28, 28)), cmap='Greys')\n",
    "ax.set_title(f\"ACTUAL: {mnist_test[0, randint]} NN GUESS: {guesses[1, randint]}\", fontsize=20)\n",
    "ax.axis('off') "
   ]
  },
  {
   "cell_type": "code",
   "execution_count": null,
   "id": "1e6e4510",
   "metadata": {},
   "outputs": [],
   "source": []
  }
 ],
 "metadata": {
  "kernelspec": {
   "display_name": "base",
   "language": "python",
   "name": "python3"
  },
  "language_info": {
   "codemirror_mode": {
    "name": "ipython",
    "version": 3
   },
   "file_extension": ".py",
   "mimetype": "text/x-python",
   "name": "python",
   "nbconvert_exporter": "python",
   "pygments_lexer": "ipython3",
   "version": "3.11.4"
  }
 },
 "nbformat": 4,
 "nbformat_minor": 5
}
